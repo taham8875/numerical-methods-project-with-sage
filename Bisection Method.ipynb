{
 "cells": [
  {
   "cell_type": "markdown",
   "metadata": {},
   "source": [
    "# The Bisection Method.\n",
    "\n",
    "An algorithms for solving non-linear equations, applied to any continuous function we know two values with opposite signs.\n",
    "\n",
    "To find a solution of the equation \n",
    "$$\n",
    "f(x) = 0\n",
    "$$\n",
    "We find the midpoint c of the interval $[a, b]$. Suppose that $f(c) \\neq 0$  (otherwise we have found a solution). Either $f(a) \\times f(c)$ is negative, so that the interval $[a, c]$ must contain a solution of the equation, or $f(c) \\times f(b)$ is negative, so that the interval $[c, b]$ contains a solution of the equation. Therefore, we can construct an interval containing  solution, and whose length is half the length of the interval $[a, b]$. By iterating this construction, we obtain a sequence of intervals with the expected properties."
   ]
  },
  {
   "cell_type": "markdown",
   "metadata": {},
   "source": [
    "### Implementation\n",
    "\n",
    "We define `bisection_method` function"
   ]
  },
  {
   "cell_type": "code",
   "execution_count": 1,
   "metadata": {},
   "outputs": [],
   "source": [
    "def bisection_method(f, start_point, end_point, number_of_iterations = 10):\n",
    "    \n",
    "    # if f(a) × f(b) is positive, there are no roots\n",
    "    \n",
    "    if (f(start_point) * f(end_point) > 0) :\n",
    "        return None\n",
    "    \n",
    "    \n",
    "    for i in range(number_of_iterations):\n",
    "        mid_point = (start_point + end_point) / 2\n",
    "        \n",
    "        if (f(mid_point) == 0) :\n",
    "            return mid_point\n",
    "        \n",
    "        elif (f(start_point) * f(mid_point) < 0) :\n",
    "            end_point = mid_point\n",
    "            \n",
    "        elif (f(start_point) * f(mid_point) > 0) :\n",
    "            start_point = mid_point\n",
    "            \n",
    "    return mid_point"
   ]
  },
  {
   "cell_type": "markdown",
   "metadata": {},
   "source": [
    "## Test with an example\n",
    "\n",
    "Use the bisection method to find a solution to the equation\n",
    "\n",
    "$$\n",
    "x^2 + ln(x) = 0\n",
    "$$\n",
    "\n",
    "using 4 iterations of the bisection method over the interval $[0.5, 1]$\n",
    "\n",
    "Find maximum error bound $\\varepsilon$, error measured to exact solution and plot $f(x)$\n"
   ]
  },
  {
   "cell_type": "code",
   "execution_count": 2,
   "metadata": {},
   "outputs": [],
   "source": [
    "# Define f(x)\n",
    "\n",
    "f(x) = x^2 + ln(x) "
   ]
  },
  {
   "cell_type": "code",
   "execution_count": 3,
   "metadata": {},
   "outputs": [
    {
     "data": {
      "text/plain": [
       "0.656250000000000"
      ]
     },
     "execution_count": 3,
     "metadata": {},
     "output_type": "execute_result"
    }
   ],
   "source": [
    "our_solution = bisection_method(f, 0.5, 1, 4)\n",
    "our_solution"
   ]
  },
  {
   "cell_type": "markdown",
   "metadata": {},
   "source": [
    "#### Exact value"
   ]
  },
  {
   "cell_type": "code",
   "execution_count": 4,
   "metadata": {},
   "outputs": [
    {
     "data": {
      "text/plain": [
       "[x == -sqrt(-log(x)), x == sqrt(-log(x))]"
      ]
     },
     "execution_count": 4,
     "metadata": {},
     "output_type": "execute_result"
    }
   ],
   "source": [
    "exact_solution = solve(f(x) == 0, x)\n",
    "exact_solution"
   ]
  },
  {
   "cell_type": "markdown",
   "metadata": {},
   "source": [
    "As seen, `sage` can't find a numerical solution for the equation using `solve` function, here is the explination and alternative method from `sage` documentation\n",
    "   \n",
    "   <blockquote> \n",
    "<section id=\"solving-equations-numerically\">\n",
    "<h3>Solving Equations Numerically<a class=\"headerlink\" href=\"https://doc.sagemath.org/html/en/tutorial/tour_algebra.html#solving-equations-numerically\" title=\"Permalink to this headline\">¶</a></h3>\n",
    "<p>Often times, <code class=\"docutils literal notranslate\"><span class=\"pre\">solve</span></code> will not be able to find an exact solution to\n",
    "the equation or equations specified.  When it fails, you can use\n",
    "<code class=\"docutils literal notranslate\"><span class=\"pre\">find_root</span></code> to find a numerical solution.  For example, solve does\n",
    "not return anything interesting for the following equation:</p>\n",
    "<div class=\"highlight-ipycon notranslate\"><div class=\"highlight\"><pre><span></span><span class=\"gp\">sage: </span><span class=\"n\">theta</span> <span class=\"o\">=</span> <span class=\"n\">var</span><span class=\"p\">(</span><span class=\"s1\">'theta'</span><span class=\"p\">)</span>\n",
    "<span class=\"gp\">sage: </span><span class=\"n\">solve</span><span class=\"p\">(</span><span class=\"n\">cos</span><span class=\"p\">(</span><span class=\"n\">theta</span><span class=\"p\">)</span><span class=\"o\">==</span><span class=\"n\">sin</span><span class=\"p\">(</span><span class=\"n\">theta</span><span class=\"p\">),</span> <span class=\"n\">theta</span><span class=\"p\">)</span>\n",
    "<span class=\"go\">[sin(theta) == cos(theta)]</span>\n",
    "</pre></div>\n",
    "</div>\n",
    "<p>On the other hand, we can use <code class=\"docutils literal notranslate\"><span class=\"pre\">find_root</span></code> to find a solution to the\n",
    "above equation in the range <span class=\"math notranslate nohighlight\"><span class=\"MathJax_Preview\" style=\"color: inherit; display: none;\"></span><span class=\"MathJax\" id=\"MathJax-Element-1-Frame\" tabindex=\"0\" style=\"position: relative;\" data-mathml=\"<math xmlns=&quot;http://www.w3.org/1998/Math/MathML&quot;><mn>0</mn><mo>&amp;lt;</mo><mi>&amp;#x03D5;</mi><mo>&amp;lt;</mo><mi>&amp;#x03C0;</mi><mrow class=&quot;MJX-TeXAtom-ORD&quot;><mo>/</mo></mrow><mn>2</mn></math>\" role=\"presentation\"><nobr aria-hidden=\"true\"><span class=\"math\" id=\"MathJax-Span-1\" style=\"width: 6.509em; display: inline-block;\"><span style=\"display: inline-block; position: relative; width: 5.328em; height: 0px; font-size: 122%;\"><span style=\"position: absolute; clip: rect(1.35em, 1005.28em, 2.658em, -1000em); top: -2.254em; left: 0em;\"><span class=\"mrow\" id=\"MathJax-Span-2\"><span class=\"mn\" id=\"MathJax-Span-3\" style=\"font-family: MathJax_Main;\">0</span><span class=\"mo\" id=\"MathJax-Span-4\" style=\"font-family: MathJax_Main; padding-left: 0.278em;\">&lt;</span><span class=\"mi\" id=\"MathJax-Span-5\" style=\"font-family: MathJax_Math-italic; padding-left: 0.278em;\">ϕ</span><span class=\"mo\" id=\"MathJax-Span-6\" style=\"font-family: MathJax_Main; padding-left: 0.278em;\">&lt;</span><span class=\"mi\" id=\"MathJax-Span-7\" style=\"font-family: MathJax_Math-italic; padding-left: 0.278em;\">π<span style=\"display: inline-block; overflow: hidden; height: 1px; width: 0.003em;\"></span></span><span class=\"texatom\" id=\"MathJax-Span-8\"><span class=\"mrow\" id=\"MathJax-Span-9\"><span class=\"mo\" id=\"MathJax-Span-10\" style=\"font-family: MathJax_Main;\">/</span></span></span><span class=\"mn\" id=\"MathJax-Span-11\" style=\"font-family: MathJax_Main;\">2</span></span><span style=\"display: inline-block; width: 0px; height: 2.254em;\"></span></span></span><span style=\"display: inline-block; overflow: hidden; vertical-align: -0.368em; border-left: 0px solid; width: 0px; height: 1.345em;\"></span></span></nobr><span class=\"MJX_Assistive_MathML\" role=\"presentation\"><math xmlns=\"http://www.w3.org/1998/Math/MathML\"><mn>0</mn><mo>&lt;</mo><mi>ϕ</mi><mo>&lt;</mo><mi>π</mi><mrow class=\"MJX-TeXAtom-ORD\"><mo>/</mo></mrow><mn>2</mn></math></span></span></span>:</p>\n",
    "<div class=\"highlight-ipycon notranslate\"><div class=\"highlight\"><pre><span></span><span class=\"gp\">sage: </span><span class=\"n\">phi</span> <span class=\"o\">=</span> <span class=\"n\">var</span><span class=\"p\">(</span><span class=\"s1\">'phi'</span><span class=\"p\">)</span>\n",
    "<span class=\"gp\">sage: </span><span class=\"n\">find_root</span><span class=\"p\">(</span><span class=\"n\">cos</span><span class=\"p\">(</span><span class=\"n\">phi</span><span class=\"p\">)</span><span class=\"o\">==</span><span class=\"n\">sin</span><span class=\"p\">(</span><span class=\"n\">phi</span><span class=\"p\">),</span><span class=\"mi\">0</span><span class=\"p\">,</span><span class=\"n\">pi</span><span class=\"o\">/</span><span class=\"mi\">2</span><span class=\"p\">)</span>\n",
    "<span class=\"go\">0.785398163397448...</span>\n",
    "</pre></div>\n",
    "</div>\n",
    "    \n",
    "</section></blockquote> \n"
   ]
  },
  {
   "cell_type": "code",
   "execution_count": 5,
   "metadata": {},
   "outputs": [
    {
     "data": {
      "text/plain": [
       "0.6529186404192052"
      ]
     },
     "execution_count": 5,
     "metadata": {},
     "output_type": "execute_result"
    }
   ],
   "source": [
    "exact_solution = find_root(f, 0.5, 1)\n",
    "exact_solution"
   ]
  },
  {
   "cell_type": "markdown",
   "metadata": {},
   "source": [
    "Find error and maximum error bound $\\varepsilon$"
   ]
  },
  {
   "cell_type": "code",
   "execution_count": 6,
   "metadata": {},
   "outputs": [
    {
     "data": {
      "text/plain": [
       "0.00333135958079478"
      ]
     },
     "execution_count": 6,
     "metadata": {},
     "output_type": "execute_result"
    }
   ],
   "source": [
    "error = abs(our_solution - exact_solution)\n",
    "error"
   ]
  },
  {
   "cell_type": "code",
   "execution_count": 7,
   "metadata": {},
   "outputs": [
    {
     "data": {
      "text/plain": [
       "0.0312500000000000"
      ]
     },
     "execution_count": 7,
     "metadata": {},
     "output_type": "execute_result"
    }
   ],
   "source": [
    "maximum_error_bound = (1 - 0.5) / 2^4\n",
    "maximum_error_bound"
   ]
  },
  {
   "cell_type": "markdown",
   "metadata": {},
   "source": [
    "As seen, error is much less than maximum error bound"
   ]
  },
  {
   "cell_type": "markdown",
   "metadata": {},
   "source": [
    "#### plot the function and the solution"
   ]
  },
  {
   "cell_type": "code",
   "execution_count": 8,
   "metadata": {},
   "outputs": [
    {
     "name": "stdout",
     "output_type": "stream",
     "text": [
      "verbose 0 (3835: plot.py, generate_plot_points) WARNING: When plotting, failed to evaluate function at 100 points.\n",
      "verbose 0 (3835: plot.py, generate_plot_points) Last error message: 'can't convert complex to float'\n"
     ]
    },
    {
     "data": {
      "image/png": "[encoded data removed]",
      "text/plain": [
       "Graphics object consisting of 2 graphics primitives"
      ]
     },
     "execution_count": 8,
     "metadata": {},
     "output_type": "execute_result"
    }
   ],
   "source": [
    "p1 =  plot (f, x)\n",
    "\n",
    "p2 = line([(our_solution, -5), (our_solution, 1.5)], color = \"green\")\n",
    "\n",
    "my_plot = p1 + p2 \n",
    "\n",
    "my_plot"
   ]
  }
 ],
 "metadata": {
  "kernelspec": {
   "display_name": "SageMath 9.2",
   "language": "sage",
   "name": "sagemath"
  },
  "language_info": {
   "codemirror_mode": {
    "name": "ipython",
    "version": 3
   },
   "file_extension": ".py",
   "mimetype": "text/x-python",
   "name": "python",
   "nbconvert_exporter": "python",
   "pygments_lexer": "ipython3",
   "version": "3.7.7"
  }
 },
 "nbformat": 4,
 "nbformat_minor": 4
}
