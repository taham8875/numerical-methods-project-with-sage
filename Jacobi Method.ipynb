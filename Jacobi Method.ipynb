{
 "cells": [
  {
   "cell_type": "markdown",
   "metadata": {},
   "source": [
    "# Jacobi Method\n",
    "In numerical linear algebra, the Jacobi method is __an iterative algorithm for determining the solutions of a strictly diagonally dominant system of linear equations.__ Each diagonal element is solved for, and an approximate value is plugged in. The process is then iterated until it converges.\n",
    "\n",
    "Given a linear system of equation and initial values for unknowns, assume zeros if there are no initial values.\n",
    "\n",
    "$$\n",
    "a_{11}x_1 + a_{12}x_2 + a_{13}x_3 = b_1 $$ $$\n",
    "a_{21}x_1 + a_{22}x_2 + a_{23}x_3 = b_2 $$ $$\n",
    "a_{31}x_1 + a_{32}x_2 + a_{33}x_3 = b_3 $$ $$\n",
    "$$\n",
    "\n",
    "solitions are\n",
    "\n",
    "$$\n",
    "x_1 = \\frac{b_1 - a_{12}x_2 - a_{13}x_3}{a_{11}}$$ $$\n",
    "x_2 = \\frac{b_2 - a_{21}x_1 - a_{23}x_3}{a_{22}}$$ $$\n",
    "x_3 = \\frac{b_3 - a_{31}x_1 - a_{32}x_2}{a_{33}}$$ $$\n",
    "$$\n",
    "\n",
    "Substitute with the initial values and repaet `n` times\n"
   ]
  },
  {
   "cell_type": "markdown",
   "metadata": {},
   "source": [
    "## Implementation\n",
    "\n",
    "We define the `jacobi_method` function. The function accepts the matrices $A$ and $b$. Where $A$ is the coefficient matrix and $b$ is the column vector of constant terms. Solves the equation $Ax=b$ and return an array of the solutions.\n"
   ]
  },
  {
   "cell_type": "code",
   "execution_count": 1,
   "metadata": {},
   "outputs": [],
   "source": [
    "# import needed packages\n",
    "\n",
    "import numpy as np\n",
    "\n",
    "def jacobi_method(A, b, number_of_iterations = 10, guess = None):\n",
    "    \n",
    "    # User enters the initial guess. If none, the default initial value is zeros\n",
    "    if guess is None:\n",
    "        guess = np.zeros(A.ncols());\n",
    "        \n",
    "        \n",
    "    diagonal_elements = np.diagonal(A)\n",
    "    \n",
    "    matrix_without_diagonal_elements = A - np.diagflat(diagonal_elements)\n",
    "    \n",
    "    \n",
    "    for i in range(number_of_iterations):\n",
    "        guess = (b - np.dot(matrix_without_diagonal_elements, guess)) / diagonal_elements\n",
    "        \n",
    "    return guess\n",
    "    "
   ]
  },
  {
   "cell_type": "markdown",
   "metadata": {},
   "source": [
    "## Test with an example\n",
    "\n",
    "Use the Jacobi method to solve\n",
    "\n",
    "$$\n",
    "\\begin{split}\n",
    "3x_1  -0.1x_2  -0.2x_3 &= 7.85 \\\\\n",
    "0.1x_1 + 7x_2  -0.3x_3 &= -19.3 \\\\\n",
    "0.3x_1  -0.2x_2 + 10x_3 &= 71.4 \\\\\n",
    "\\end{split}\n",
    "$$\n",
    "\n",
    "with number of iterations = $3$ "
   ]
  },
  {
   "cell_type": "code",
   "execution_count": 2,
   "metadata": {},
   "outputs": [
    {
     "data": {
      "text/plain": [
       "array([ 3.00080635, -2.49973844,  7.00020667])"
      ]
     },
     "execution_count": 2,
     "metadata": {},
     "output_type": "execute_result"
    }
   ],
   "source": [
    "A = matrix([[3,-0.1,-0.2], [0.1,7,-0.3], [0.3,-0.2,10]])\n",
    "\n",
    "b = np.array([7.85, -19.3, 71.4])\n",
    "\n",
    "jacobi_method(A, b, 3)"
   ]
  },
  {
   "cell_type": "markdown",
   "metadata": {},
   "source": [
    "The exact solution is"
   ]
  },
  {
   "cell_type": "code",
   "execution_count": 3,
   "metadata": {},
   "outputs": [
    {
     "data": {
      "text/plain": [
       "(3.00000000000000, -2.50000000000000, 7.00000000000000)"
      ]
     },
     "execution_count": 3,
     "metadata": {},
     "output_type": "execute_result"
    }
   ],
   "source": [
    "A.solve_right(b)"
   ]
  }
 ],
 "metadata": {
  "kernelspec": {
   "display_name": "SageMath 9.2",
   "language": "sage",
   "name": "sagemath"
  },
  "language_info": {
   "codemirror_mode": {
    "name": "ipython",
    "version": 3
   },
   "file_extension": ".py",
   "mimetype": "text/x-python",
   "name": "python",
   "nbconvert_exporter": "python",
   "pygments_lexer": "ipython3",
   "version": "3.7.7"
  }
 },
 "nbformat": 4,
 "nbformat_minor": 4
}
