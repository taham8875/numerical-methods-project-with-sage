{
 "cells": [
  {
   "cell_type": "markdown",
   "metadata": {},
   "source": [
    "# Linear regression\n",
    "\n",
    "In statistics, linear regression is a linear approach for modelling the relationship between a scalar response and one or more explanatory variables (also known as dependent and independent variables). e.g. a model that assumes a linear relationship between the input variables (x) and the single output variable (y). More specifically, that y can be calculated from a linear combination of the input variables (x).  The case of one explanatory variable is called simple linear regression\n",
    "\n",
    "Linear regression models are often fitted using the least squares approach, but they may also be fitted in other ways, such as by minimizing the \"lack of fit\" in some other norm (as with least absolute deviations regression), or by minimizing a penalized version of the least squares cost function as in ridge regression ($L_2$-norm penalty) and lasso ($L_1$-norm penalty). Conversely, the least squares approach can be used to fit models that are not linear models. Thus, although the terms \"least squares\" and \"linear model\" are closely linked, they are not synonymous.\n",
    "\n",
    "In this section, we implement least squares approch for fitting a set of data points on 2D plane\n",
    "\n",
    "Given a set of data points, the best fit straight line equation is $$y = a_0 + a_1 x $$\n",
    "\n",
    "where $a_0$ and $a_1$ are obtained by solving the equations:\n",
    "$$\n",
    "\\begin{split}\n",
    "n \\, a_0 + \\left( \\Sigma x_i \\right) a_1 &= \\Sigma y_i \\\\\n",
    "\\left( \\Sigma x_i \\right)  a_0 + \\left( \\Sigma x_i^2 \\right) a_1 &= \\Sigma\\, x_iy_i\n",
    "\\end{split}\n",
    "$$\n",
    "\n",
    "## Correlation Coefficient\n",
    "\n",
    "How do we know how good the fit is?\n",
    "By correlation coefficient\n",
    "\n",
    "$S_r$ : Square differences between the data points and the straight line\n",
    "\n",
    "$$ S_r = \\sum_{i = 1}^{n} (y_i - a_0 - a_1x_i)^2$$\n",
    "\n",
    "$S_t$ : Square differences between the data points and the mean\n",
    "\n",
    "$$ S_t = \\sum_{i = 1}^{n} \\left(y_i - \\overline{y}\\right)^2$$\n",
    "\n",
    "Coefficient of determination \n",
    "\n",
    "$$ r^2 = \\frac{S_t - S_r}{S_t}$$\n",
    "\n",
    "Correlation coefficient\n",
    "\n",
    "$$r = \\sqrt{r^2}$$\n",
    "\n",
    "# Exponential Model\n",
    "Exponential regression refers to the process of arriving at an equation for the exponential curve that best fits a set of data. Exponential regression is very similar to linear regression, where we try to arrive at an equation for the (straight) line that best fits a set of data.\n",
    "\n",
    "Often, we come across situations where a set of data doesn’t follow a straight line or a parabola. In such situations, the exponential curve is generally the best fit. This includes situations where there is slow growth initially and then a quick acceleration of growth, or in situations where there is rapid decay initially and then a sudden deceleration of decay.\n",
    "\n",
    "Given that $y = ae^{bx}$ and the linear fit equation iis $Y = a_0 + a_1X$, after simplifying we obtain that\n",
    "$$ \\underbrace{\\ln(y)}_{Y} = \\underbrace{\\ln(a)}_{a_0} + \\underbrace{b}_{a_1} \\underbrace{x}_{X} $$\n",
    "\n",
    "Let:\n",
    "$$\n",
    "\\begin{split}\n",
    "Y &= \\ln(y)\\\\\n",
    "X &= x\\\\\n",
    "a_0 &= \\ln(a)\\\\\n",
    "a_1 &= b\n",
    "\\end{split}\n",
    "$$\n",
    "\n",
    "# Power Model\n",
    "\n",
    "Power regression is one in which the response variable is proportional to the explanatory variable raised to a power. \n",
    "\n",
    "Given that $y = ax^b$ and the linear fit equation iis $Y = a_0 + a_1X$, after simplifying we obtain that\n",
    "$$ \\underbrace{\\log(y)}_{Y} = \\underbrace{\\log(a)}_{a_0} + \\underbrace{b}_{a_1} \\underbrace{\\log(x)}_{X} $$\n",
    "\n",
    "Let:\n",
    "\n",
    "$$\n",
    "\\begin{split}\n",
    "Y &= \\log(y)\\\\\n",
    "X &= \\log(x)\\\\\n",
    "a_0 &= \\log(a)\\\\\n",
    "a_1 &= b\n",
    "\\end{split}\n",
    "$$\n",
    "\n",
    "\n",
    "# Growth Rate Model\n",
    " \n",
    "\n",
    "Given that $y = \\dfrac{ax}{b+x}$ and the linear fit equation iis $Y = a_0 + a_1X$, after simplifying we obtain that\n",
    "$$ \\underbrace{\\frac{1}{y}}_{Y} = \\underbrace{\\frac{1}{a}}_{a_0} + \\underbrace{\\frac{b}{a}}_{a_1} \\underbrace{\\frac{1}{x}}_{X} $$\n",
    "\n",
    "Let:\n",
    "\n",
    "$$\n",
    "\\begin{split}\n",
    "Y &= \\frac{1}{y}\\\\\n",
    "X &= \\frac{1}{x}\\\\\n",
    "a_0 &= \\frac{1}{a}\\\\\n",
    "a_1 &= \\frac{b}{a}\n",
    "\\end{split}\n",
    "$$"
   ]
  },
  {
   "cell_type": "markdown",
   "metadata": {},
   "source": [
    "## Implementation\n",
    "\n",
    "We define `linear_regression` function, the function takes two inputs, first input is a list of data points, second input is the model of regression, by default the model is `linear`, there are `exponential`, `power` and `growth rate` model. The function returns two values, first value is a list of parameters of the best fit equation, the second is the correlation coefficient, third input `plot_function` is optional and by default equals false, if it equals true it wil return s plot of the data points vs. the least squares solution."
   ]
  },
  {
   "cell_type": "code",
   "execution_count": 1,
   "metadata": {},
   "outputs": [],
   "source": [
    "# import needed packages\n",
    "# by default, python calls list by reference, resulting in changing the original set\n",
    "# using deepcopy to copy the data to prevent from changing the origninal set\n",
    "\n",
    "from copy import deepcopy"
   ]
  },
  {
   "cell_type": "code",
   "execution_count": 2,
   "metadata": {},
   "outputs": [],
   "source": [
    "def linear_regression(points, model = 'linear', plot_function = False):\n",
    "    \n",
    "    \n",
    "    ####################################\n",
    "    # implement linear model\n",
    "    \n",
    "    if model.lower() in ['l', 'linear']:\n",
    "        \n",
    "        points_linear = deepcopy(points)\n",
    "        \n",
    "        number_of_points = len(points_linear)\n",
    "\n",
    "        sigma_x = 0\n",
    "        for i in range(len(points_linear)):\n",
    "            sigma_x += points_linear[i][0]\n",
    "\n",
    "        sigma_y = 0\n",
    "        for i in range(len(points_linear)):\n",
    "            sigma_y += points_linear[i][1]\n",
    "\n",
    "        sigma_x_squared = 0\n",
    "        for i in range(len(points_linear)):\n",
    "            sigma_x_squared += (points_linear[i][0])^2\n",
    "\n",
    "        sigma_xy = 0\n",
    "        for i in range(len(points_linear)):\n",
    "            sigma_xy += (points_linear[i][0] * points_linear[i][1])\n",
    "\n",
    "        A = matrix([[number_of_points, sigma_x], [sigma_x, sigma_x_squared]])\n",
    "\n",
    "        b = matrix([[sigma_y], [sigma_xy]])\n",
    "\n",
    "        solution = A.solve_right(b).n()\n",
    "\n",
    "        S_r = 0\n",
    "        for i in range(len(points_linear)):\n",
    "            S_r += (points_linear[i][1] - list(solution.dict().values())[0] - list(solution.dict().values())[1] * points_linear[i][0])^2\n",
    "\n",
    "        S_t = 0\n",
    "        for i in range(len(points_linear)):\n",
    "            S_t += (points_linear[i][1] - (sigma_y / number_of_points))^2\n",
    "\n",
    "\n",
    "        correlation_coefficient = sqrt((S_t - S_r) / S_t)\n",
    "\n",
    "        if plot_function == False:\n",
    "        \n",
    "            return list(solution.dict().values()), correlation_coefficient\n",
    "    \n",
    "        if plot_function == True:\n",
    "            \n",
    "            a0, a1 = var('a0 a1')\n",
    "\n",
    "            model(x) = a0  + a1 * x\n",
    "            \n",
    "            linear_regression_plot = point(points) + plot(model(a0 = list(solution.dict().values())[0], a1 = list(solution.dict().values())[1]), (x, find_min_x_of_points(points), find_max_x_of_points(points) + 1), color = 'red')\n",
    "            \n",
    "            return list(solution.dict().values()), correlation_coefficient, linear_regression_plot\n",
    "            \n",
    "    \n",
    "    ####################################\n",
    "    # implement exponential model\n",
    "    \n",
    "    if model.lower() in ['e', 'exp', 'exponential']:\n",
    "        \n",
    "        points_exponential = deepcopy(points)\n",
    "        \n",
    "        for i in range(len(points_exponential)):\n",
    "            points_exponential[i][1] = ln(points_exponential[i][1]).n()\n",
    "            \n",
    "        exponential_solution, correlation_coefficient = linear_regression(points_exponential)\n",
    "         \n",
    "        exponential_solution[0] = e^(exponential_solution[0])\n",
    "        \n",
    "        if plot_function == False:\n",
    "            \n",
    "            return exponential_solution, correlation_coefficient\n",
    "    \n",
    "        if plot_function == True:\n",
    "            \n",
    "            a, b = var('a b')\n",
    "\n",
    "            model_2 = a * e^(b * x) \n",
    "            \n",
    "            linear_regression_plot = point(points) + plot(model_2(a = exponential_solution[0], b = exponential_solution[1]), (x, find_min_x_of_points(points), find_max_x_of_points(points) + 1), color = 'red')\n",
    "            \n",
    "            return exponential_solution, correlation_coefficient, linear_regression_plot\n",
    "            \n",
    "    \n",
    "    \n",
    "    ####################################\n",
    "    # implement power model\n",
    "    \n",
    "    if model.lower() in ['p', 'power']:\n",
    "        \n",
    "        points_power = deepcopy(points)\n",
    "        \n",
    "        for i in range(len(points_power)):\n",
    "            points_power[i][0] = log(points_power[i][0], 10).n()\n",
    "            points_power[i][1] = log(points_power[i][1], 10).n()\n",
    "            \n",
    "        power_solution, correlation_coefficient = linear_regression(points_power)\n",
    "        \n",
    "        power_solution[0] = 10^(power_solution[0])\n",
    "        \n",
    "        if plot_function == False:\n",
    "        \n",
    "            return power_solution, correlation_coefficient\n",
    "        \n",
    "        if plot_function == True:\n",
    "\n",
    "            a, b = var('a b')\n",
    "\n",
    "            model_3 = a * x^b \n",
    "            \n",
    "            linear_regression_plot = point(points) + plot(model_3(a = power_solution[0], b = power_solution[1]), (x, find_min_x_of_points(points), find_max_x_of_points(points) + 1), color = 'red')\n",
    "            \n",
    "            return power_solution, correlation_coefficient, linear_regression_plot\n",
    "    \n",
    "    \n",
    "    \n",
    "    ####################################\n",
    "    # implement growth rate model\n",
    "    \n",
    "    if model.lower() in ['g', 'growth', 'growth rate']:\n",
    "        \n",
    "        points_growth = deepcopy(points)\n",
    "            \n",
    "        for i in range(len(points_growth)):\n",
    "            points_growth[i][0] = 1 / points_growth[i][0]\n",
    "            points_growth[i][1] = 1 / points_growth[i][1]\n",
    "            \n",
    "        growth_solution, correlation_coefficient = linear_regression(points_growth)\n",
    "        \n",
    "        growth_solution[0] = 1 / growth_solution[0]\n",
    "        growth_solution[1] = growth_solution[0] * growth_solution[1]\n",
    "        \n",
    "    \n",
    "        if plot_function == False:\n",
    "        \n",
    "            return growth_solution, correlation_coefficient\n",
    "        \n",
    "        if plot_function == True:\n",
    "\n",
    "            a, b = var('a b')\n",
    "\n",
    "            model_4 = a * x / (b + x) \n",
    "            \n",
    "            linear_regression_plot = point(points) + plot(model_4(a = growth_solution[0], b = growth_solution[1]), (x, find_min_x_of_points(points), find_max_x_of_points(points) + 1), color = 'red')\n",
    "            \n",
    "            return growth_solution, correlation_coefficient, linear_regression_plot\n",
    "        \n",
    "        \n",
    "##############################\n",
    "# To plot -> we must specify a range of x e.g. from x = 0 to x = 15\n",
    "# To find that range automaticly, we define find_min_x_of_points() and find_min_x_of_points()\n",
    "# which finds the minimum and maximum x value of a list of point\n",
    "\n",
    "def find_min_x_of_points(points):\n",
    "    min = points[0][0]\n",
    "    for point in points:\n",
    "        if point[0] < min :\n",
    "            min = point[0]\n",
    "    return min\n",
    "\n",
    "def find_max_x_of_points(points):\n",
    "    max = points[0][0]\n",
    "    for point in points:\n",
    "        if point[0] > max :\n",
    "            max = point[0]\n",
    "    return max"
   ]
  },
  {
   "cell_type": "markdown",
   "metadata": {},
   "source": [
    "## Implementation of a graphical user interface\n",
    "\n",
    "Using `ipywidgets` which are interactive HTML widgets for Jupyter notebooks and the IPython kernel, we can define the `GUI_linear_regression` function which enable the user to enter a list of points anf choose the model interactively."
   ]
  },
  {
   "cell_type": "code",
   "execution_count": 3,
   "metadata": {},
   "outputs": [],
   "source": [
    "import ipywidgets as widgets\n",
    "from IPython.display import display\n",
    "\n",
    "\n",
    "# by default, numbers in sage are from sage.rings.real_mpfr.RealLiteral\n",
    "# Using R_type_cast, we can type cast any float or integer value to proper types\n",
    "from sage.rings.real_mpfr import RRtoRR\n",
    "R_type_cast = RealField()\n",
    "\n",
    "\n",
    "def GUI_linear_regression():\n",
    "    pointsgui = widgets.Text(\n",
    "    value = '',\n",
    "    placeholder = 'e.g. [[18, 153], [19, 156], [21, 169]]',\n",
    "    description = 'Enter points: ',\n",
    "    disabled = False\n",
    "    )\n",
    "    display(pointsgui)\n",
    "\n",
    "    modelgui = widgets.RadioButtons(\n",
    "    options=['linear', 'exponential', 'power', 'growth rate'],\n",
    "    value = 'linear', # Defaults to 'linear'\n",
    "    description = 'Model: ',\n",
    "    disabled = False\n",
    "    )\n",
    "    display(modelgui)\n",
    "    \n",
    "    button = widgets.Button(description = 'Run')\n",
    "    output = widgets.Output()\n",
    "\n",
    "    display(button, output)\n",
    "\n",
    "    def on_button_clicked(b):\n",
    "        with output:\n",
    "            show_results()\n",
    "            \n",
    "\n",
    "    button.on_click(on_button_clicked)\n",
    "    \n",
    "    def show_results():\n",
    "        points_2_gui = eval(pointsgui.value)\n",
    "        for onepoint in points_2_gui:\n",
    "            onepoint[0], onepoint[1] = R_type_cast(onepoint[0]), R_type_cast(onepoint[1])\n",
    "        solution_test, correlation_coefficient_test, graph_test = linear_regression(points_2_gui ,model = modelgui.value, plot_function = True)\n",
    "        print(f\"Parameters are {solution_test[0]}, {solution_test[1]}\\nCorrelation coefficient is {correlation_coefficient_test}\" )\n",
    "        show(graph_test)\n",
    "    \n"
   ]
  },
  {
   "cell_type": "markdown",
   "metadata": {},
   "source": [
    "## Test with an example 1\n",
    "\n",
    "Find the least squares fit of a straight line to the given data:\n",
    "\n",
    "\n",
    "|x|18|19|21|23|23|25|34|35|37|39|42|54|56|65|72|\n",
    "|-|-|-|-|-|-|-|-|-|-|-|-|-|-|-|-|\n",
    "|y|153|156|169|172|174|174|172|174|177|180|181|187|198|199|202|\n",
    "\n",
    "plot the data points vs. the least squares solution, and find the correlation coefficient."
   ]
  },
  {
   "cell_type": "code",
   "execution_count": 4,
   "metadata": {
    "scrolled": true
   },
   "outputs": [
    {
     "data": {
      "text/plain": [
       "[[18, 153],\n",
       " [19, 156],\n",
       " [21, 169],\n",
       " [23, 172],\n",
       " [23, 174],\n",
       " [25, 174],\n",
       " [34, 172],\n",
       " [35, 174],\n",
       " [37, 177],\n",
       " [39, 180],\n",
       " [42, 181],\n",
       " [54, 187],\n",
       " [56, 198],\n",
       " [65, 199],\n",
       " [72, 202]]"
      ]
     },
     "execution_count": 4,
     "metadata": {},
     "output_type": "execute_result"
    }
   ],
   "source": [
    "points_1 = [[18, 153], [19, 156], [21, 169], [23, 172], [23, 174], [25, 174], [34, 172], [35, 174], [37, 177], [39, 180], [42, 181], [54, 187], [56, 198], [65, 199], [72, 202]]\n",
    "\n",
    "points_1"
   ]
  },
  {
   "cell_type": "code",
   "execution_count": 5,
   "metadata": {},
   "outputs": [
    {
     "name": "stdout",
     "output_type": "stream",
     "text": [
      "Required coefficients [148.999345110692, 0.769111586748874]\n",
      "Correlation coefficient = 0.935392145341174\n"
     ]
    },
    {
     "data": {
      "image/png": "[encoded data removed]",
      "text/plain": [
       "Graphics object consisting of 2 graphics primitives"
      ]
     },
     "metadata": {},
     "output_type": "display_data"
    }
   ],
   "source": [
    "solution_1, correlation_coefficient_1, graph_1 = linear_regression(points_1 ,model = 'linear', plot_function = True)\n",
    "\n",
    "print(f'Required coefficients {solution_1}\\nCorrelation coefficient = {correlation_coefficient_1}')\n",
    "show(graph_1)"
   ]
  },
  {
   "cell_type": "markdown",
   "metadata": {},
   "source": [
    "Compare it to `find_fit` function provided by `sage`, results are almost identical"
   ]
  },
  {
   "cell_type": "code",
   "execution_count": 6,
   "metadata": {
    "scrolled": true
   },
   "outputs": [
    {
     "data": {
      "text/plain": [
       "[a0 == 148.99934509893097, a1 == 0.7691115870622297]"
      ]
     },
     "execution_count": 6,
     "metadata": {},
     "output_type": "execute_result"
    }
   ],
   "source": [
    "var('a0 a1')\n",
    "model(x) = a0  + a1 * x\n",
    "\n",
    "find_fit(points_1, model)"
   ]
  },
  {
   "cell_type": "markdown",
   "metadata": {},
   "source": [
    "## Test GUI with an example 1.1\n",
    "\n",
    "Find the least squares fit of a straight line to the given data:\n",
    "\n",
    "\n",
    "|x|5|10|15|20|25|\n",
    "|-|-|-|-|-|-|\n",
    "|y|-0.45|-21.13|-43.5|-72.53|-98.17|\n",
    "\n",
    "plot the data points vs. the least squares solution, and find the correlation coefficient."
   ]
  },
  {
   "cell_type": "code",
   "execution_count": 7,
   "metadata": {},
   "outputs": [],
   "source": [
    "# points_1_gui = [[5, -0.45], [10, -21.13], [15, -43.50], [20, -72.53], [25, -98.17]]"
   ]
  },
  {
   "cell_type": "code",
   "execution_count": 8,
   "metadata": {
    "scrolled": true
   },
   "outputs": [
    {
     "data": {
      "application/vnd.jupyter.widget-view+json": {
       "model_id": "4da24a2a4ca84a929cc4639a70fe1403",
       "version_major": 2,
       "version_minor": 0
      },
      "text/plain": [
       "Text(value='', description='Enter points: ', placeholder='e.g. [[18, 153], [19, 156], [21, 169]]')"
      ]
     },
     "metadata": {},
     "output_type": "display_data"
    },
    {
     "data": {
      "application/vnd.jupyter.widget-view+json": {
       "model_id": "7ec29ed7fbb94808945eb52cd06cc2aa",
       "version_major": 2,
       "version_minor": 0
      },
      "text/plain": [
       "RadioButtons(description='Model: ', options=('linear', 'exponential', 'power', 'growth rate'), value='linear')"
      ]
     },
     "metadata": {},
     "output_type": "display_data"
    },
    {
     "data": {
      "application/vnd.jupyter.widget-view+json": {
       "model_id": "2494b4cca45748529b072049a0ae9a83",
       "version_major": 2,
       "version_minor": 0
      },
      "text/plain": [
       "Button(description='Run', style=ButtonStyle())"
      ]
     },
     "metadata": {},
     "output_type": "display_data"
    },
    {
     "data": {
      "application/vnd.jupyter.widget-view+json": {
       "model_id": "269f6919340143e8b91882e1fc4ad204",
       "version_major": 2,
       "version_minor": 0
      },
      "text/plain": [
       "Output()"
      ]
     },
     "metadata": {},
     "output_type": "display_data"
    }
   ],
   "source": [
    "GUI_linear_regression()"
   ]
  },
  {
   "cell_type": "markdown",
   "metadata": {},
   "source": [
    "## Test with an example 2\n",
    "\n",
    "Find the least squares fit of the exponential model to the given data:\n",
    "\n",
    "\n",
    "|x|1|2|3|4|5|6|7|8|9|10|\n",
    "|-|-|-|-|-|-|-|-|-|-|-|\n",
    "|y|620.00|621.88|899.80|1239.93|1970.63|2089.04|2751.31|3954.92|5893.7|8513.1|\n",
    "\n",
    "plot the data points vs. the least squares solution, and find the correlation coefficient."
   ]
  },
  {
   "cell_type": "code",
   "execution_count": 9,
   "metadata": {},
   "outputs": [
    {
     "data": {
      "text/plain": [
       "[[1, 620.000000000000],\n",
       " [2, 621.880000000000],\n",
       " [3, 899.800000000000],\n",
       " [4, 1239.93000000000],\n",
       " [5, 1970.63000000000],\n",
       " [6, 2089.04000000000],\n",
       " [7, 2751.31000000000],\n",
       " [8, 3954.92000000000],\n",
       " [9, 5893.70000000000],\n",
       " [10, 8513.10000000000]]"
      ]
     },
     "execution_count": 9,
     "metadata": {},
     "output_type": "execute_result"
    }
   ],
   "source": [
    "points_2 = [[1,620.00], [2,621.88], [3,899.80], [4,1239.93], [5,1970.63], [6,2089.04], [7,2751.31], [8,3954.92], [9, 5893.7], [10, 8513.1]]\n",
    "\n",
    "points_2"
   ]
  },
  {
   "cell_type": "code",
   "execution_count": 10,
   "metadata": {},
   "outputs": [
    {
     "name": "stdout",
     "output_type": "stream",
     "text": [
      "Required coefficients [386.108386444157, 0.298007006799214]\n",
      "Correlation coefficient = 0.992541929629623\n"
     ]
    },
    {
     "data": {
      "image/png": "[encoded data removed]",
      "text/plain": [
       "Graphics object consisting of 2 graphics primitives"
      ]
     },
     "metadata": {},
     "output_type": "display_data"
    }
   ],
   "source": [
    "solution_2, correlation_coefficient_2, graph_2 = linear_regression(points_2 ,model = 'exponential', plot_function = True)\n",
    "\n",
    "print(f'Required coefficients {solution_2}\\nCorrelation coefficient = {correlation_coefficient_2}')\n",
    "show(graph_2)"
   ]
  },
  {
   "cell_type": "code",
   "execution_count": 11,
   "metadata": {
    "scrolled": false
   },
   "outputs": [
    {
     "data": {
      "application/vnd.jupyter.widget-view+json": {
       "model_id": "e97bca9e09f942b7bd0b25ee1dcf16e1",
       "version_major": 2,
       "version_minor": 0
      },
      "text/plain": [
       "Text(value='', description='Enter points: ', placeholder='e.g. [[18, 153], [19, 156], [21, 169]]')"
      ]
     },
     "metadata": {},
     "output_type": "display_data"
    },
    {
     "data": {
      "application/vnd.jupyter.widget-view+json": {
       "model_id": "fc13bd0ab7224755aec288400241e7d9",
       "version_major": 2,
       "version_minor": 0
      },
      "text/plain": [
       "RadioButtons(description='Model: ', options=('linear', 'exponential', 'power', 'growth rate'), value='linear')"
      ]
     },
     "metadata": {},
     "output_type": "display_data"
    },
    {
     "data": {
      "application/vnd.jupyter.widget-view+json": {
       "model_id": "fef126cbd3ff49ee9592fcb4f549085c",
       "version_major": 2,
       "version_minor": 0
      },
      "text/plain": [
       "Button(description='Run', style=ButtonStyle())"
      ]
     },
     "metadata": {},
     "output_type": "display_data"
    },
    {
     "data": {
      "application/vnd.jupyter.widget-view+json": {
       "model_id": "e53a9709704248b1b94772f9bd6a81dc",
       "version_major": 2,
       "version_minor": 0
      },
      "text/plain": [
       "Output()"
      ]
     },
     "metadata": {},
     "output_type": "display_data"
    }
   ],
   "source": [
    "GUI_linear_regression()"
   ]
  },
  {
   "cell_type": "markdown",
   "metadata": {},
   "source": [
    "## Test with an example 3\n",
    "\n",
    "Find the least squares fit of the power model to the given data:\n",
    "\n",
    "\n",
    "|x|1|2|3|4|5|6|7|8|9|10|11|12|13|14|15|\n",
    "|-|-|-|-|-|-|-|-|-|-|-|-|-|-|-|-|\n",
    "|y|0.339|2.082|6.731|16.799|35.423|75.224|117.506|162.077|197.054|337.557|405.831|603.241|643.630|830.005|879.403|\n",
    "\n",
    "plot the data points vs. the least squares solution, and find the correlation coefficient."
   ]
  },
  {
   "cell_type": "code",
   "execution_count": 12,
   "metadata": {},
   "outputs": [
    {
     "data": {
      "text/plain": [
       "[[1, 0.339000000000000],\n",
       " [2, 2.08200000000000],\n",
       " [3, 6.73100000000000],\n",
       " [4, 16.7995000000000],\n",
       " [5, 35.4230000000000],\n",
       " [6, 75.2240000000000],\n",
       " [7, 117.506000000000],\n",
       " [8, 162.077000000000],\n",
       " [9, 197.054000000000],\n",
       " [10, 337.557000000000],\n",
       " [11, 405.831000000000],\n",
       " [12, 603.241000000000],\n",
       " [13, 643.630000000000],\n",
       " [14, 830.005000000000],\n",
       " [15, 879.403000000000]]"
      ]
     },
     "execution_count": 12,
     "metadata": {},
     "output_type": "execute_result"
    }
   ],
   "source": [
    "points_3 = [[1, 0.339], [2, 2.082], [3, 6.731], [4, 16.7995], [5, 35.423], [6, 75.224], [7, 117.506], [8, 162.077], [9, 197.054], [10, 337.557], [11, 405.831], [12, 603.241], [13, 643.630], [14, 830.005], [15, 879.403]]\n",
    "points_3"
   ]
  },
  {
   "cell_type": "code",
   "execution_count": 13,
   "metadata": {
    "scrolled": false
   },
   "outputs": [
    {
     "name": "stdout",
     "output_type": "stream",
     "text": [
      "Required coefficients [0.289032615005079, 3.01877203227069]\n",
      "Correlation coefficient = 0.998729161187500\n"
     ]
    },
    {
     "data": {
      "image/png": "[encoded data removed]",
      "text/plain": [
       "Graphics object consisting of 2 graphics primitives"
      ]
     },
     "metadata": {},
     "output_type": "display_data"
    }
   ],
   "source": [
    "solution_3, correlation_coefficient_3, graph_3 = linear_regression(points_3 ,model = 'power', plot_function = True)\n",
    "\n",
    "print(f'Required coefficients {solution_3}\\nCorrelation coefficient = {correlation_coefficient_3}')\n",
    "show(graph_3)"
   ]
  },
  {
   "cell_type": "code",
   "execution_count": 14,
   "metadata": {},
   "outputs": [
    {
     "data": {
      "application/vnd.jupyter.widget-view+json": {
       "model_id": "267e37ee38f54440b3c95fd29b4018af",
       "version_major": 2,
       "version_minor": 0
      },
      "text/plain": [
       "Text(value='', description='Enter points: ', placeholder='e.g. [[18, 153], [19, 156], [21, 169]]')"
      ]
     },
     "metadata": {},
     "output_type": "display_data"
    },
    {
     "data": {
      "application/vnd.jupyter.widget-view+json": {
       "model_id": "48e35d53d2d8441f8a61524fecdb031e",
       "version_major": 2,
       "version_minor": 0
      },
      "text/plain": [
       "RadioButtons(description='Model: ', options=('linear', 'exponential', 'power', 'growth rate'), value='linear')"
      ]
     },
     "metadata": {},
     "output_type": "display_data"
    },
    {
     "data": {
      "application/vnd.jupyter.widget-view+json": {
       "model_id": "ce7d72952c0a4da98870bb1612a98431",
       "version_major": 2,
       "version_minor": 0
      },
      "text/plain": [
       "Button(description='Run', style=ButtonStyle())"
      ]
     },
     "metadata": {},
     "output_type": "display_data"
    },
    {
     "data": {
      "application/vnd.jupyter.widget-view+json": {
       "model_id": "0dda1ebc33304c7fbe6988fab2700913",
       "version_major": 2,
       "version_minor": 0
      },
      "text/plain": [
       "Output()"
      ]
     },
     "metadata": {},
     "output_type": "display_data"
    }
   ],
   "source": [
    "GUI_linear_regression()"
   ]
  },
  {
   "cell_type": "markdown",
   "metadata": {},
   "source": [
    "## Test with an example 4\n",
    "\n",
    "Find the least squares fit of the growth rate model to the given data:\n",
    "\n",
    "\n",
    "|x|1|3|5|7|9|\n",
    "|-|-|-|-|-|-|\n",
    "|y|0.85|1.4|1.73|1.68|1.96|\n",
    "\n",
    "\n",
    "\n",
    "plot the data points vs. the least squares solution, and find the correlation coefficient."
   ]
  },
  {
   "cell_type": "code",
   "execution_count": 15,
   "metadata": {},
   "outputs": [
    {
     "data": {
      "text/plain": [
       "[[1, 0.850000000000000],\n",
       " [3, 1.40000000000000],\n",
       " [5, 1.73000000000000],\n",
       " [7, 1.68000000000000],\n",
       " [9, 1.96000000000000]]"
      ]
     },
     "execution_count": 15,
     "metadata": {},
     "output_type": "execute_result"
    }
   ],
   "source": [
    "points_4 = [[1, 0.85], [3, 1.4], [5, 1.73], [7, 1.68], [9, 1.96]]\n",
    "\n",
    "points_4"
   ]
  },
  {
   "cell_type": "code",
   "execution_count": 16,
   "metadata": {
    "scrolled": false
   },
   "outputs": [
    {
     "name": "stdout",
     "output_type": "stream",
     "text": [
      "Required coefficients [2.19177854653905, 1.58559002228765]\n",
      "Correlation coefficient = 0.995146563071319\n"
     ]
    },
    {
     "data": {
      "image/png": "[encoded data removed]",
      "text/plain": [
       "Graphics object consisting of 2 graphics primitives"
      ]
     },
     "metadata": {},
     "output_type": "display_data"
    }
   ],
   "source": [
    "solution_4, correlation_coefficient_4, graph_4 = linear_regression(points_4 ,model = 'growth', plot_function = True)\n",
    "\n",
    "print(f'Required coefficients {solution_4}\\nCorrelation coefficient = {correlation_coefficient_4}')\n",
    "show(graph_4)"
   ]
  },
  {
   "cell_type": "code",
   "execution_count": 17,
   "metadata": {},
   "outputs": [
    {
     "data": {
      "application/vnd.jupyter.widget-view+json": {
       "model_id": "227875c3c07e494186eb75e9e5b0ec3a",
       "version_major": 2,
       "version_minor": 0
      },
      "text/plain": [
       "Text(value='', description='Enter points: ', placeholder='e.g. [[18, 153], [19, 156], [21, 169]]')"
      ]
     },
     "metadata": {},
     "output_type": "display_data"
    },
    {
     "data": {
      "application/vnd.jupyter.widget-view+json": {
       "model_id": "51c3f870c65c449292ec0f36872be00a",
       "version_major": 2,
       "version_minor": 0
      },
      "text/plain": [
       "RadioButtons(description='Model: ', options=('linear', 'exponential', 'power', 'growth rate'), value='linear')"
      ]
     },
     "metadata": {},
     "output_type": "display_data"
    },
    {
     "data": {
      "application/vnd.jupyter.widget-view+json": {
       "model_id": "f9d41b720cf14bbf97007e268ffcc1a3",
       "version_major": 2,
       "version_minor": 0
      },
      "text/plain": [
       "Button(description='Run', style=ButtonStyle())"
      ]
     },
     "metadata": {},
     "output_type": "display_data"
    },
    {
     "data": {
      "application/vnd.jupyter.widget-view+json": {
       "model_id": "6fed89dc84aa4010890d1e01a5bee42b",
       "version_major": 2,
       "version_minor": 0
      },
      "text/plain": [
       "Output()"
      ]
     },
     "metadata": {},
     "output_type": "display_data"
    }
   ],
   "source": [
    "GUI_linear_regression()"
   ]
  }
 ],
 "metadata": {
  "kernelspec": {
   "display_name": "SageMath 9.2",
   "language": "sage",
   "name": "sagemath"
  },
  "language_info": {
   "codemirror_mode": {
    "name": "ipython",
    "version": 3
   },
   "file_extension": ".py",
   "mimetype": "text/x-python",
   "name": "python",
   "nbconvert_exporter": "python",
   "pygments_lexer": "ipython3",
   "version": "3.7.7"
  },
  "widgets": {
   "application/vnd.jupyter.widget-state+json": {
    "state": {
     "0742f96e7c554eaf947d133402603b95": {
      "model_module": "@jupyter-widgets/base",
      "model_module_version": "1.2.0",
      "model_name": "LayoutModel",
      "state": {}
     },
     "0aefc032e74b4293a7c36e99dbfd884d": {
      "model_module": "@jupyter-widgets/controls",
      "model_module_version": "1.5.0",
      "model_name": "DescriptionStyleModel",
      "state": {
       "description_width": ""
      }
     },
     "0cf6f6441f6e4b51901446c74e3b536f": {
      "model_module": "@jupyter-widgets/base",
      "model_module_version": "1.2.0",
      "model_name": "LayoutModel",
      "state": {}
     },
     "0dda1ebc33304c7fbe6988fab2700913": {
      "model_module": "@jupyter-widgets/output",
      "model_module_version": "1.0.0",
      "model_name": "OutputModel",
      "state": {
       "layout": "IPY_MODEL_2acc1fb369f247d8a7ff71264c4910f7",
       "outputs": [
        {
         "name": "stdout",
         "output_type": "stream",
         "text": "Parameters are 0.289032615005081, 3.01877203227068\nCorrelation coefficient is 0.998729161187500\n"
        },
        {
         "data": {
          "image/png": "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\n",
          "text/plain": "Graphics object consisting of 2 graphics primitives"
         },
         "metadata": {},
         "output_type": "display_data"
        }
       ]
      }
     },
     "13aa4f4f2d004d09bb16eb26fc1f8a69": {
      "model_module": "@jupyter-widgets/base",
      "model_module_version": "1.2.0",
      "model_name": "LayoutModel",
      "state": {}
     },
     "18df2476be424b1caa721861808e6be2": {
      "model_module": "@jupyter-widgets/controls",
      "model_module_version": "1.5.0",
      "model_name": "ButtonStyleModel",
      "state": {}
     },
     "1af100e92c1b4f8ea4a8f278aa30aef7": {
      "model_module": "@jupyter-widgets/controls",
      "model_module_version": "1.5.0",
      "model_name": "DescriptionStyleModel",
      "state": {
       "description_width": ""
      }
     },
     "227875c3c07e494186eb75e9e5b0ec3a": {
      "model_module": "@jupyter-widgets/controls",
      "model_module_version": "1.5.0",
      "model_name": "TextModel",
      "state": {
       "description": "Enter points: ",
       "layout": "IPY_MODEL_487bbe53dae84ea99711460dcfc83569",
       "placeholder": "e.g. [[18, 153], [19, 156], [21, 169]]",
       "style": "IPY_MODEL_0aefc032e74b4293a7c36e99dbfd884d",
       "value": "[[1, 0.85], [3, 1.4], [5, 1.73], [7, 1.68], [9, 1.96]]"
      }
     },
     "2494b4cca45748529b072049a0ae9a83": {
      "model_module": "@jupyter-widgets/controls",
      "model_module_version": "1.5.0",
      "model_name": "ButtonModel",
      "state": {
       "description": "Run",
       "layout": "IPY_MODEL_e7ca1fee1c9a418a8cd61e8ef075b628",
       "style": "IPY_MODEL_18df2476be424b1caa721861808e6be2"
      }
     },
     "267e37ee38f54440b3c95fd29b4018af": {
      "model_module": "@jupyter-widgets/controls",
      "model_module_version": "1.5.0",
      "model_name": "TextModel",
      "state": {
       "description": "Enter points: ",
       "layout": "IPY_MODEL_b732f3d64ea84bff909ef30c3b13358e",
       "placeholder": "e.g. [[18, 153], [19, 156], [21, 169]]",
       "style": "IPY_MODEL_1af100e92c1b4f8ea4a8f278aa30aef7",
       "value": " [[1, 0.339], [2, 2.082], [3, 6.731], [4, 16.7995], [5, 35.423], [6, 75.224], [7, 117.506], [8, 162.077], [9, 197.054], [10, 337.557], [11, 405.831], [12, 603.241], [13, 643.630], [14, 830.005], [15, 879.403]]"
      }
     },
     "269f6919340143e8b91882e1fc4ad204": {
      "model_module": "@jupyter-widgets/output",
      "model_module_version": "1.0.0",
      "model_name": "OutputModel",
      "state": {
       "layout": "IPY_MODEL_c14bab1249c549f382cbbeb80bad2fee",
       "outputs": [
        {
         "name": "stdout",
         "output_type": "stream",
         "text": "Parameters are 26.8960000000000, -4.93680000000000\nCorrelation coefficient is 0.997918957473488\n"
        },
        {
         "data": {
          "image/png": "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\n",
          "text/plain": "Graphics object consisting of 2 graphics primitives"
         },
         "metadata": {},
         "output_type": "display_data"
        }
       ]
      }
     },
     "2acc1fb369f247d8a7ff71264c4910f7": {
      "model_module": "@jupyter-widgets/base",
      "model_module_version": "1.2.0",
      "model_name": "LayoutModel",
      "state": {}
     },
     "2b5af27d0d7843179298225135c166c8": {
      "model_module": "@jupyter-widgets/controls",
      "model_module_version": "1.5.0",
      "model_name": "DescriptionStyleModel",
      "state": {
       "description_width": ""
      }
     },
     "401fe276253b4aa09bfc0040d9592608": {
      "model_module": "@jupyter-widgets/controls",
      "model_module_version": "1.5.0",
      "model_name": "ButtonStyleModel",
      "state": {}
     },
     "487bbe53dae84ea99711460dcfc83569": {
      "model_module": "@jupyter-widgets/base",
      "model_module_version": "1.2.0",
      "model_name": "LayoutModel",
      "state": {}
     },
     "48e35d53d2d8441f8a61524fecdb031e": {
      "model_module": "@jupyter-widgets/controls",
      "model_module_version": "1.5.0",
      "model_name": "RadioButtonsModel",
      "state": {
       "_options_labels": [
        "linear",
        "exponential",
        "power",
        "growth rate"
       ],
       "description": "Model: ",
       "index": 2,
       "layout": "IPY_MODEL_6d81c9f2558e40ea9a6d2cb7ec332118",
       "style": "IPY_MODEL_2b5af27d0d7843179298225135c166c8"
      }
     },
     "4bdeca41422344bb83911704de9af5fc": {
      "model_module": "@jupyter-widgets/base",
      "model_module_version": "1.2.0",
      "model_name": "LayoutModel",
      "state": {}
     },
     "4da24a2a4ca84a929cc4639a70fe1403": {
      "model_module": "@jupyter-widgets/controls",
      "model_module_version": "1.5.0",
      "model_name": "TextModel",
      "state": {
       "description": "Enter points: ",
       "layout": "IPY_MODEL_e703702ffa2a475ab3689f87babc0af1",
       "placeholder": "e.g. [[18, 153], [19, 156], [21, 169]]",
       "style": "IPY_MODEL_cd0ff43059aa467eba1c1f608aea632d",
       "value": " [[5, -0.45], [10, -21.13], [15, -43.50], [20, -72.53], [25, -98.17]]"
      }
     },
     "51c3f870c65c449292ec0f36872be00a": {
      "model_module": "@jupyter-widgets/controls",
      "model_module_version": "1.5.0",
      "model_name": "RadioButtonsModel",
      "state": {
       "_options_labels": [
        "linear",
        "exponential",
        "power",
        "growth rate"
       ],
       "description": "Model: ",
       "index": 3,
       "layout": "IPY_MODEL_13aa4f4f2d004d09bb16eb26fc1f8a69",
       "style": "IPY_MODEL_b5dc04657eef458d81a01159387d20dd"
      }
     },
     "58c7cc419830425da53f4b7f6a4cb686": {
      "model_module": "@jupyter-widgets/controls",
      "model_module_version": "1.5.0",
      "model_name": "DescriptionStyleModel",
      "state": {
       "description_width": ""
      }
     },
     "5c828890439348448e461f8b3777bffb": {
      "model_module": "@jupyter-widgets/controls",
      "model_module_version": "1.5.0",
      "model_name": "DescriptionStyleModel",
      "state": {
       "description_width": ""
      }
     },
     "6d81c9f2558e40ea9a6d2cb7ec332118": {
      "model_module": "@jupyter-widgets/base",
      "model_module_version": "1.2.0",
      "model_name": "LayoutModel",
      "state": {}
     },
     "6fed89dc84aa4010890d1e01a5bee42b": {
      "model_module": "@jupyter-widgets/output",
      "model_module_version": "1.0.0",
      "model_name": "OutputModel",
      "state": {
       "layout": "IPY_MODEL_0cf6f6441f6e4b51901446c74e3b536f",
       "outputs": [
        {
         "name": "stdout",
         "output_type": "stream",
         "text": "Parameters are 2.19177854653905, 1.58559002228765\nCorrelation coefficient is 0.995146563071319\n"
        },
        {
         "data": {
          "image/png": "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\n",
          "text/plain": "Graphics object consisting of 2 graphics primitives"
         },
         "metadata": {},
         "output_type": "display_data"
        }
       ]
      }
     },
     "7e3b37f575394f4ebf7000447404827c": {
      "model_module": "@jupyter-widgets/base",
      "model_module_version": "1.2.0",
      "model_name": "LayoutModel",
      "state": {}
     },
     "7ec29ed7fbb94808945eb52cd06cc2aa": {
      "model_module": "@jupyter-widgets/controls",
      "model_module_version": "1.5.0",
      "model_name": "RadioButtonsModel",
      "state": {
       "_options_labels": [
        "linear",
        "exponential",
        "power",
        "growth rate"
       ],
       "description": "Model: ",
       "index": 0,
       "layout": "IPY_MODEL_4bdeca41422344bb83911704de9af5fc",
       "style": "IPY_MODEL_58c7cc419830425da53f4b7f6a4cb686"
      }
     },
     "83196c44a2e445319dd972ae4d22ab47": {
      "model_module": "@jupyter-widgets/base",
      "model_module_version": "1.2.0",
      "model_name": "LayoutModel",
      "state": {}
     },
     "aa5f4dd107ac4ee693fa0524c8eac63a": {
      "model_module": "@jupyter-widgets/controls",
      "model_module_version": "1.5.0",
      "model_name": "ButtonStyleModel",
      "state": {}
     },
     "b5dc04657eef458d81a01159387d20dd": {
      "model_module": "@jupyter-widgets/controls",
      "model_module_version": "1.5.0",
      "model_name": "DescriptionStyleModel",
      "state": {
       "description_width": ""
      }
     },
     "b732f3d64ea84bff909ef30c3b13358e": {
      "model_module": "@jupyter-widgets/base",
      "model_module_version": "1.2.0",
      "model_name": "LayoutModel",
      "state": {}
     },
     "b767beeb4b824b998635b372141aaa95": {
      "model_module": "@jupyter-widgets/controls",
      "model_module_version": "1.5.0",
      "model_name": "ButtonStyleModel",
      "state": {}
     },
     "c055168ea901441d820f8ee248b8c321": {
      "model_module": "@jupyter-widgets/base",
      "model_module_version": "1.2.0",
      "model_name": "LayoutModel",
      "state": {}
     },
     "c14bab1249c549f382cbbeb80bad2fee": {
      "model_module": "@jupyter-widgets/base",
      "model_module_version": "1.2.0",
      "model_name": "LayoutModel",
      "state": {}
     },
     "c8233c9441d741218e994fbb9c5b9e84": {
      "model_module": "@jupyter-widgets/base",
      "model_module_version": "1.2.0",
      "model_name": "LayoutModel",
      "state": {}
     },
     "cd0ff43059aa467eba1c1f608aea632d": {
      "model_module": "@jupyter-widgets/controls",
      "model_module_version": "1.5.0",
      "model_name": "DescriptionStyleModel",
      "state": {
       "description_width": ""
      }
     },
     "ce7d72952c0a4da98870bb1612a98431": {
      "model_module": "@jupyter-widgets/controls",
      "model_module_version": "1.5.0",
      "model_name": "ButtonModel",
      "state": {
       "description": "Run",
       "layout": "IPY_MODEL_7e3b37f575394f4ebf7000447404827c",
       "style": "IPY_MODEL_401fe276253b4aa09bfc0040d9592608"
      }
     },
     "d59610aa835543a0b65185d9e5bcc463": {
      "model_module": "@jupyter-widgets/base",
      "model_module_version": "1.2.0",
      "model_name": "LayoutModel",
      "state": {}
     },
     "e53a9709704248b1b94772f9bd6a81dc": {
      "model_module": "@jupyter-widgets/output",
      "model_module_version": "1.0.0",
      "model_name": "OutputModel",
      "state": {
       "layout": "IPY_MODEL_83196c44a2e445319dd972ae4d22ab47",
       "outputs": [
        {
         "name": "stdout",
         "output_type": "stream",
         "text": "Parameters are 386.108386444157, 0.298007006799214\nCorrelation coefficient is 0.992541929629623\n"
        },
        {
         "data": {
          "image/png": "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\n",
          "text/plain": "Graphics object consisting of 2 graphics primitives"
         },
         "metadata": {},
         "output_type": "display_data"
        }
       ]
      }
     },
     "e703702ffa2a475ab3689f87babc0af1": {
      "model_module": "@jupyter-widgets/base",
      "model_module_version": "1.2.0",
      "model_name": "LayoutModel",
      "state": {}
     },
     "e78dbbae689045ba98f0a7d24b07aac5": {
      "model_module": "@jupyter-widgets/controls",
      "model_module_version": "1.5.0",
      "model_name": "DescriptionStyleModel",
      "state": {
       "description_width": ""
      }
     },
     "e7ca1fee1c9a418a8cd61e8ef075b628": {
      "model_module": "@jupyter-widgets/base",
      "model_module_version": "1.2.0",
      "model_name": "LayoutModel",
      "state": {}
     },
     "e97bca9e09f942b7bd0b25ee1dcf16e1": {
      "model_module": "@jupyter-widgets/controls",
      "model_module_version": "1.5.0",
      "model_name": "TextModel",
      "state": {
       "description": "Enter points: ",
       "layout": "IPY_MODEL_0742f96e7c554eaf947d133402603b95",
       "placeholder": "e.g. [[18, 153], [19, 156], [21, 169]]",
       "style": "IPY_MODEL_5c828890439348448e461f8b3777bffb",
       "value": " [[1,620.00], [2,621.88], [3,899.80], [4,1239.93], [5,1970.63], [6,2089.04], [7,2751.31], [8,3954.92], [9, 5893.7], [10, 8513.1]]"
      }
     },
     "f9d41b720cf14bbf97007e268ffcc1a3": {
      "model_module": "@jupyter-widgets/controls",
      "model_module_version": "1.5.0",
      "model_name": "ButtonModel",
      "state": {
       "description": "Run",
       "layout": "IPY_MODEL_c8233c9441d741218e994fbb9c5b9e84",
       "style": "IPY_MODEL_aa5f4dd107ac4ee693fa0524c8eac63a"
      }
     },
     "fc13bd0ab7224755aec288400241e7d9": {
      "model_module": "@jupyter-widgets/controls",
      "model_module_version": "1.5.0",
      "model_name": "RadioButtonsModel",
      "state": {
       "_options_labels": [
        "linear",
        "exponential",
        "power",
        "growth rate"
       ],
       "description": "Model: ",
       "index": 1,
       "layout": "IPY_MODEL_c055168ea901441d820f8ee248b8c321",
       "style": "IPY_MODEL_e78dbbae689045ba98f0a7d24b07aac5"
      }
     },
     "fef126cbd3ff49ee9592fcb4f549085c": {
      "model_module": "@jupyter-widgets/controls",
      "model_module_version": "1.5.0",
      "model_name": "ButtonModel",
      "state": {
       "description": "Run",
       "layout": "IPY_MODEL_d59610aa835543a0b65185d9e5bcc463",
       "style": "IPY_MODEL_b767beeb4b824b998635b372141aaa95"
      }
     }
    },
    "version_major": 2,
    "version_minor": 0
   }
  }
 },
 "nbformat": 4,
 "nbformat_minor": 4
}
