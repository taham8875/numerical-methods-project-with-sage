{
 "cells": [
  {
   "cell_type": "markdown",
   "metadata": {},
   "source": [
    "# Euler's Method\n",
    "\n",
    "In mathematics and computational science, the Euler method (also called forward Euler method) is a first-order numerical procedure for solving ordinary differential equations (ODEs) with a given initial value. It is the most basic explicit method for numerical integration of ordinary differential equations. It is based on the assumption that the tangent line to the integral curve(solution curve) at $(x_i, y_i)$ approximates the integral curve over the interval $[x_i,x_{i+1}]$. The Euler method is named after Leonhard Euler.\n",
    "\n",
    "Consider the first order ODE\n",
    "$$\n",
    "\\frac{dy}{dx} = F(x,y) \\qquad y(0) = y_0\n",
    "$$\n",
    "\n",
    "To find an approximate solution at x = b, we divide the interval $[x_0,b]$ to $n$ equal parts, $b = x_0 + x_1 + \\cdots + x_n$ where \n",
    "$$ x_i = x_0 + h_i \\qquad  h = \\frac{b - x_0}{n} $$\n",
    "\n",
    "Since the slope of the integral curve at $(x_i, y_i)$ is $y'(x_i) = F(x_i, y_i)$, the equation of the tangent line to the integral curve at $(x_i,y_i)$ is given by\n",
    "\n",
    "\n",
    "$$\n",
    "y_{i+1} = y_i + hF(x_i, y_i)\n",
    "$$\n",
    "\n",
    "\n",
    "$$ i = 0,1,2,...,n - 1\n",
    "$$\n",
    "\n",
    "# Heun's Method\n",
    "\n",
    "Heun's method may refer to the improved or modified Euler's method. It is named after Karl Heun and is a numerical procedure for solving ordinary differential equations (ODEs) with a given initial value.\n",
    "\n",
    "Euler's method is used as the foundation for Heun's method. Euler's method uses the line tangent to the function at the beginning of the interval as an estimate of the slope of the function over the interval, assuming that if the step size is small, the error will be small. However, even when extremely small step sizes are used, over a large number of steps the error starts to accumulate and the estimate diverges from the actual functional value.\n",
    "\n",
    "Heun's Method considers the tangent lines to the solution curve at both ends of the interval, one which overestimates, and one which underestimates the ideal vertical coordinates. A prediction line must be constructed based on the right end point tangent's slope alone, approximated using Euler's Method. The idea is to replace the slope of Euler's method by the average of two slopes.\n",
    " \n",
    "Results of Heun's Method are more accurate than results of Euler's method\n",
    "\n",
    "$$\n",
    "\\text{New slope} = \\frac{F(x_n,y_n) + F(x_{n+1}, y_{n+1}^*)}{2}\n",
    "$$\n",
    "\n",
    "$$\n",
    "y_{n+1}^* = y_n + hF(x_n, y_n)\n",
    "$$\n",
    "\n",
    "\n",
    "$$\n",
    "y_{n+1} = y_n + \\frac{h}{2} \\left(  F(x_n,y_n) + F(x_{n+1}, y_{n+1}^*) \\right) $$\n"
   ]
  },
  {
   "cell_type": "markdown",
   "metadata": {},
   "source": [
    "## Implementation of Euler's Method\n",
    "\n",
    "`Sage` has its own `eulers_method` function, to avoid using `Sage` built-in name, we define `forward_eulers_method` function. Inputs are initial values of $x$ and $y$, step size $h$, and value of $x$ to stop at."
   ]
  },
  {
   "cell_type": "code",
   "execution_count": 1,
   "metadata": {},
   "outputs": [],
   "source": [
    "def forward_eulers_method(f, x_initial, y_initial, h, x_wanted):\n",
    "    \n",
    "    number_of_iterations = int((x_wanted - x_initial) / h)\n",
    "    \n",
    "    x_i = x_initial\n",
    "    y_i = y_initial\n",
    "    \n",
    "    solution = [[x_initial, y_initial]]\n",
    "    \n",
    "    for i in range(1, number_of_iterations + 1):\n",
    "        y_i = y_i + h * f(x_i, y_i)\n",
    "        x_i = x_i + h\n",
    "        \n",
    "        \n",
    "        solution.append([x_i, y_i])\n",
    "        \n",
    "    return solution"
   ]
  },
  {
   "cell_type": "markdown",
   "metadata": {},
   "source": [
    "## Implementation of Euler's Method\n",
    "\n",
    "we define `heuns_method` function. Inputs are initial values of $x$ and $y$, step size $h$, and value of $x$ to stop at.\n"
   ]
  },
  {
   "cell_type": "code",
   "execution_count": 2,
   "metadata": {},
   "outputs": [],
   "source": [
    "def heuns_method(f, x_initial, y_initial, h, x_wanted):\n",
    "    \n",
    "    number_of_iterations = int((x_wanted - x_initial) / h)\n",
    "    \n",
    "    x_i = x_initial\n",
    "    y_i = y_initial\n",
    "    \n",
    "    solution = [[x_initial, y_initial]]\n",
    "    \n",
    "    for i in range(1, number_of_iterations + 1):\n",
    "        y_i = y_i + 0.5 * h * (f(x_i, y_i) + f((x_i + h), (y_i + h * f(x_i, y_i))))\n",
    "        x_i = x_i + h\n",
    "        \n",
    "        \n",
    "        solution.append([x_i, y_i])\n",
    "        \n",
    "    return solution"
   ]
  },
  {
   "cell_type": "markdown",
   "metadata": {},
   "source": [
    "## Test with an example 1\n",
    "\n",
    "Find the value of $y$ at $x = 1.5$ given that $y(0) = 1$. Use Euler's method and Heun's Method with a step size of 0.1\n",
    "\n",
    "$$\n",
    "\\frac{dy}{dx} = xy\n",
    "$$"
   ]
  },
  {
   "cell_type": "code",
   "execution_count": 3,
   "metadata": {},
   "outputs": [
    {
     "name": "stdout",
     "output_type": "stream",
     "text": [
      "Euler's method solution\n"
     ]
    },
    {
     "data": {
      "text/html": [
       "<div class=\"notruncate\">\n",
       "<table  class=\"table_form\">\n",
       "<tbody>\n",
       "<tr>\n",
       "<th><script type=\"math/tex\">x_i</script></th>\n",
       "<th><script type=\"math/tex\">y_i</script></th>\n",
       "</tr>\n",
       "<tr class =\"row-a\">\n",
       "<td><script type=\"math/tex\">0</script></td>\n",
       "<td><script type=\"math/tex\">1</script></td>\n",
       "</tr>\n",
       "<tr class =\"row-b\">\n",
       "<td><script type=\"math/tex\">0.100000000000000</script></td>\n",
       "<td><script type=\"math/tex\">1</script></td>\n",
       "</tr>\n",
       "<tr class =\"row-a\">\n",
       "<td><script type=\"math/tex\">0.200000000000000</script></td>\n",
       "<td><script type=\"math/tex\">1.01000000000000</script></td>\n",
       "</tr>\n",
       "<tr class =\"row-b\">\n",
       "<td><script type=\"math/tex\">0.300000000000000</script></td>\n",
       "<td><script type=\"math/tex\">1.03020000000000</script></td>\n",
       "</tr>\n",
       "<tr class =\"row-a\">\n",
       "<td><script type=\"math/tex\">0.400000000000000</script></td>\n",
       "<td><script type=\"math/tex\">1.06110600000000</script></td>\n",
       "</tr>\n",
       "<tr class =\"row-b\">\n",
       "<td><script type=\"math/tex\">0.500000000000000</script></td>\n",
       "<td><script type=\"math/tex\">1.10355024000000</script></td>\n",
       "</tr>\n",
       "<tr class =\"row-a\">\n",
       "<td><script type=\"math/tex\">0.600000000000000</script></td>\n",
       "<td><script type=\"math/tex\">1.15872775200000</script></td>\n",
       "</tr>\n",
       "<tr class =\"row-b\">\n",
       "<td><script type=\"math/tex\">0.700000000000000</script></td>\n",
       "<td><script type=\"math/tex\">1.22825141712000</script></td>\n",
       "</tr>\n",
       "<tr class =\"row-a\">\n",
       "<td><script type=\"math/tex\">0.800000000000000</script></td>\n",
       "<td><script type=\"math/tex\">1.31422901631840</script></td>\n",
       "</tr>\n",
       "<tr class =\"row-b\">\n",
       "<td><script type=\"math/tex\">0.900000000000000</script></td>\n",
       "<td><script type=\"math/tex\">1.41936733762387</script></td>\n",
       "</tr>\n",
       "<tr class =\"row-a\">\n",
       "<td><script type=\"math/tex\">1.00000000000000</script></td>\n",
       "<td><script type=\"math/tex\">1.54711039801002</script></td>\n",
       "</tr>\n",
       "<tr class =\"row-b\">\n",
       "<td><script type=\"math/tex\">1.10000000000000</script></td>\n",
       "<td><script type=\"math/tex\">1.70182143781102</script></td>\n",
       "</tr>\n",
       "<tr class =\"row-a\">\n",
       "<td><script type=\"math/tex\">1.20000000000000</script></td>\n",
       "<td><script type=\"math/tex\">1.88902179597024</script></td>\n",
       "</tr>\n",
       "<tr class =\"row-b\">\n",
       "<td><script type=\"math/tex\">1.30000000000000</script></td>\n",
       "<td><script type=\"math/tex\">2.11570441148666</script></td>\n",
       "</tr>\n",
       "<tr class =\"row-a\">\n",
       "<td><script type=\"math/tex\">1.40000000000000</script></td>\n",
       "<td><script type=\"math/tex\">2.39074598497993</script></td>\n",
       "</tr>\n",
       "<tr class =\"row-b\">\n",
       "<td><script type=\"math/tex\">1.50000000000000</script></td>\n",
       "<td><script type=\"math/tex\">2.72545042287712</script></td>\n",
       "</tr>\n",
       "</tbody>\n",
       "</table>\n",
       "</div>"
      ],
      "text/plain": [
       "  $x_i$               $y_i$\n",
       "+-------------------+------------------+\n",
       "  0                   1\n",
       "  0.100000000000000   1\n",
       "  0.200000000000000   1.01000000000000\n",
       "  0.300000000000000   1.03020000000000\n",
       "  0.400000000000000   1.06110600000000\n",
       "  0.500000000000000   1.10355024000000\n",
       "  0.600000000000000   1.15872775200000\n",
       "  0.700000000000000   1.22825141712000\n",
       "  0.800000000000000   1.31422901631840\n",
       "  0.900000000000000   1.41936733762387\n",
       "  1.00000000000000    1.54711039801002\n",
       "  1.10000000000000    1.70182143781102\n",
       "  1.20000000000000    1.88902179597024\n",
       "  1.30000000000000    2.11570441148666\n",
       "  1.40000000000000    2.39074598497993\n",
       "  1.50000000000000    2.72545042287712"
      ]
     },
     "metadata": {},
     "output_type": "display_data"
    },
    {
     "name": "stdout",
     "output_type": "stream",
     "text": [
      "Heun's method solution\n"
     ]
    },
    {
     "data": {
      "text/html": [
       "<div class=\"notruncate\">\n",
       "<table  class=\"table_form\">\n",
       "<tbody>\n",
       "<tr>\n",
       "<th><script type=\"math/tex\">x_i</script></th>\n",
       "<th><script type=\"math/tex\">y_i</script></th>\n",
       "</tr>\n",
       "<tr class =\"row-a\">\n",
       "<td><script type=\"math/tex\">0</script></td>\n",
       "<td><script type=\"math/tex\">1</script></td>\n",
       "</tr>\n",
       "<tr class =\"row-b\">\n",
       "<td><script type=\"math/tex\">0.100000000000000</script></td>\n",
       "<td><script type=\"math/tex\">1.00500000000000</script></td>\n",
       "</tr>\n",
       "<tr class =\"row-a\">\n",
       "<td><script type=\"math/tex\">0.200000000000000</script></td>\n",
       "<td><script type=\"math/tex\">1.02017550000000</script></td>\n",
       "</tr>\n",
       "<tr class =\"row-b\">\n",
       "<td><script type=\"math/tex\">0.300000000000000</script></td>\n",
       "<td><script type=\"math/tex\">1.04598594015000</script></td>\n",
       "</tr>\n",
       "<tr class =\"row-a\">\n",
       "<td><script type=\"math/tex\">0.400000000000000</script></td>\n",
       "<td><script type=\"math/tex\">1.08322303961934</script></td>\n",
       "</tr>\n",
       "<tr class =\"row-b\">\n",
       "<td><script type=\"math/tex\">0.500000000000000</script></td>\n",
       "<td><script type=\"math/tex\">1.13305129944183</script></td>\n",
       "</tr>\n",
       "<tr class =\"row-a\">\n",
       "<td><script type=\"math/tex\">0.600000000000000</script></td>\n",
       "<td><script type=\"math/tex\">1.19706869786029</script></td>\n",
       "</tr>\n",
       "<tr class =\"row-b\">\n",
       "<td><script type=\"math/tex\">0.700000000000000</script></td>\n",
       "<td><script type=\"math/tex\">1.27739200748672</script></td>\n",
       "</tr>\n",
       "<tr class =\"row-a\">\n",
       "<td><script type=\"math/tex\">0.800000000000000</script></td>\n",
       "<td><script type=\"math/tex\">1.37677310566919</script></td>\n",
       "</tr>\n",
       "<tr class =\"row-b\">\n",
       "<td><script type=\"math/tex\">0.900000000000000</script></td>\n",
       "<td><script type=\"math/tex\">1.49875520283148</script></td>\n",
       "</tr>\n",
       "<tr class =\"row-a\">\n",
       "<td><script type=\"math/tex\">1.00000000000000</script></td>\n",
       "<td><script type=\"math/tex\">1.64788134551321</script></td>\n",
       "</tr>\n",
       "<tr class =\"row-b\">\n",
       "<td><script type=\"math/tex\">1.10000000000000</script></td>\n",
       "<td><script type=\"math/tex\">1.82997223419242</script></td>\n",
       "</tr>\n",
       "<tr class =\"row-a\">\n",
       "<td><script type=\"math/tex\">1.20000000000000</script></td>\n",
       "<td><script type=\"math/tex\">2.05249685787021</script></td>\n",
       "</tr>\n",
       "<tr class =\"row-b\">\n",
       "<td><script type=\"math/tex\">1.30000000000000</script></td>\n",
       "<td><script type=\"math/tex\">2.32506844059538</script></td>\n",
       "</tr>\n",
       "<tr class =\"row-a\">\n",
       "<td><script type=\"math/tex\">1.40000000000000</script></td>\n",
       "<td><script type=\"math/tex\">2.66011080288517</script></td>\n",
       "</tr>\n",
       "<tr class =\"row-b\">\n",
       "<td><script type=\"math/tex\">1.50000000000000</script></td>\n",
       "<td><script type=\"math/tex\">3.07375803273382</script></td>\n",
       "</tr>\n",
       "</tbody>\n",
       "</table>\n",
       "</div>"
      ],
      "text/plain": [
       "  $x_i$               $y_i$\n",
       "+-------------------+------------------+\n",
       "  0                   1\n",
       "  0.100000000000000   1.00500000000000\n",
       "  0.200000000000000   1.02017550000000\n",
       "  0.300000000000000   1.04598594015000\n",
       "  0.400000000000000   1.08322303961934\n",
       "  0.500000000000000   1.13305129944183\n",
       "  0.600000000000000   1.19706869786029\n",
       "  0.700000000000000   1.27739200748672\n",
       "  0.800000000000000   1.37677310566919\n",
       "  0.900000000000000   1.49875520283148\n",
       "  1.00000000000000    1.64788134551321\n",
       "  1.10000000000000    1.82997223419242\n",
       "  1.20000000000000    2.05249685787021\n",
       "  1.30000000000000    2.32506844059538\n",
       "  1.40000000000000    2.66011080288517\n",
       "  1.50000000000000    3.07375803273382"
      ]
     },
     "metadata": {},
     "output_type": "display_data"
    }
   ],
   "source": [
    "var('x y')\n",
    "\n",
    "f(x, y) = x * y\n",
    "\n",
    "solution_euler = forward_eulers_method(f, x_initial = 0, y_initial = 1, h = 0.1, x_wanted = 1.5)\n",
    "\n",
    "solution_heun = heuns_method(f, x_initial = 0, y_initial = 1, h = 0.1, x_wanted = 1.5)\n",
    "\n",
    "print(\"Euler's method solution\")\n",
    "\n",
    "show(table(solution_euler, header_row = ['$x_i$', '$y_i$']))\n",
    "\n",
    "print(\"Heun's method solution\")\n",
    "\n",
    "show(table(solution_heun, header_row = ['$x_i$', '$y_i$']))"
   ]
  },
  {
   "cell_type": "markdown",
   "metadata": {},
   "source": [
    "Solution with `Sage` built in `eulers_method` function"
   ]
  },
  {
   "cell_type": "code",
   "execution_count": 4,
   "metadata": {
    "scrolled": false
   },
   "outputs": [
    {
     "name": "stdout",
     "output_type": "stream",
     "text": [
      "         x                    y                  h*f(x,y)\n",
      "         0                    1                    0\n",
      "0.100000000000000                    1   0.0100000000000000\n",
      "0.200000000000000     1.01000000000000   0.0202000000000000\n",
      "0.300000000000000     1.03020000000000   0.0309060000000000\n",
      "0.400000000000000     1.06110600000000   0.0424442400000000\n",
      "0.500000000000000     1.10355024000000   0.0551775120000000\n",
      "0.600000000000000     1.15872775200000   0.0695236651200000\n",
      "0.700000000000000     1.22825141712000   0.0859775991984000\n",
      "0.800000000000000     1.31422901631840    0.105138321305472\n",
      "0.900000000000000     1.41936733762387    0.127743060386148\n",
      "1.00000000000000     1.54711039801002    0.154711039801002\n",
      "1.10000000000000     1.70182143781102    0.187200358159212\n",
      "1.20000000000000     1.88902179597024    0.226682615516428\n",
      "1.30000000000000     2.11570441148666    0.275041573493266\n",
      "1.40000000000000     2.39074598497993    0.334704437897190\n",
      "1.50000000000000     2.72545042287712    0.408817563431568\n"
     ]
    }
   ],
   "source": [
    "eulers_method(f, 0, 1, 0.1, 1.5)"
   ]
  },
  {
   "cell_type": "markdown",
   "metadata": {},
   "source": [
    "As seen, our solution and `Sage` solution are identical."
   ]
  },
  {
   "cell_type": "markdown",
   "metadata": {},
   "source": [
    "Plot exact solution vs. Euler's solution and Heun's solution,. As seen, Heun's method solution is very close to the exact solution."
   ]
  },
  {
   "cell_type": "code",
   "execution_count": 5,
   "metadata": {},
   "outputs": [
    {
     "data": {
      "image/png": "[encoded data removed]",
      "text/plain": [
       "Graphics object consisting of 3 graphics primitives"
      ]
     },
     "execution_count": 5,
     "metadata": {},
     "output_type": "execute_result"
    }
   ],
   "source": [
    "p1 = streamline_plot(f(x, y), (x, 0, 1.5), (y, 1, 2.726), start_points = [[0, 1]], color = 'black')\n",
    "\n",
    "p2 = line2d(solution_euler, color = 'red' , marker = 'o')\n",
    "\n",
    "p3 = line2d(solution_heun, color = 'green' , marker = 'o', thickness = 0.75)\n",
    "\n",
    "p1 + p2 + p3"
   ]
  },
  {
   "cell_type": "markdown",
   "metadata": {},
   "source": [
    "## Test with an example 2\n",
    "\n",
    "Use Euler's method and Heun's method to find the value of $y$ over the interval $t = 0$ to $1$ with a step size of $0.1$ given that $y(0) = 1$\n",
    "\n",
    "$$\n",
    "\\frac{dy}{dt} = yt^3 - 1.5y\n",
    "$$"
   ]
  },
  {
   "cell_type": "code",
   "execution_count": 6,
   "metadata": {
    "scrolled": true
   },
   "outputs": [
    {
     "name": "stdout",
     "output_type": "stream",
     "text": [
      "Euler's method solution\n"
     ]
    },
    {
     "data": {
      "text/html": [
       "<div class=\"notruncate\">\n",
       "<table  class=\"table_form\">\n",
       "<tbody>\n",
       "<tr>\n",
       "<th><script type=\"math/tex\">x_i</script></th>\n",
       "<th><script type=\"math/tex\">y_i</script></th>\n",
       "</tr>\n",
       "<tr class =\"row-a\">\n",
       "<td><script type=\"math/tex\">0</script></td>\n",
       "<td><script type=\"math/tex\">1</script></td>\n",
       "</tr>\n",
       "<tr class =\"row-b\">\n",
       "<td><script type=\"math/tex\">0.100000000000000</script></td>\n",
       "<td><script type=\"math/tex\">0.850000000000000</script></td>\n",
       "</tr>\n",
       "<tr class =\"row-a\">\n",
       "<td><script type=\"math/tex\">0.200000000000000</script></td>\n",
       "<td><script type=\"math/tex\">0.722585000000000</script></td>\n",
       "</tr>\n",
       "<tr class =\"row-b\">\n",
       "<td><script type=\"math/tex\">0.300000000000000</script></td>\n",
       "<td><script type=\"math/tex\">0.614775318000000</script></td>\n",
       "</tr>\n",
       "<tr class =\"row-a\">\n",
       "<td><script type=\"math/tex\">0.400000000000000</script></td>\n",
       "<td><script type=\"math/tex\">0.524218913658600</script></td>\n",
       "</tr>\n",
       "<tr class =\"row-b\">\n",
       "<td><script type=\"math/tex\">0.500000000000000</script></td>\n",
       "<td><script type=\"math/tex\">0.448941077657225</script></td>\n",
       "</tr>\n",
       "<tr class =\"row-a\">\n",
       "<td><script type=\"math/tex\">0.600000000000000</script></td>\n",
       "<td><script type=\"math/tex\">0.387211679479357</script></td>\n",
       "</tr>\n",
       "<tr class =\"row-b\">\n",
       "<td><script type=\"math/tex\">0.700000000000000</script></td>\n",
       "<td><script type=\"math/tex\">0.337493699834207</script></td>\n",
       "</tr>\n",
       "<tr class =\"row-a\">\n",
       "<td><script type=\"math/tex\">0.800000000000000</script></td>\n",
       "<td><script type=\"math/tex\">0.298445678763389</script></td>\n",
       "</tr>\n",
       "<tr class =\"row-b\">\n",
       "<td><script type=\"math/tex\">0.900000000000000</script></td>\n",
       "<td><script type=\"math/tex\">0.268959245701567</script></td>\n",
       "</tr>\n",
       "<tr class =\"row-a\">\n",
       "<td><script type=\"math/tex\">1.00000000000000</script></td>\n",
       "<td><script type=\"math/tex\">0.248222487857976</script></td>\n",
       "</tr>\n",
       "</tbody>\n",
       "</table>\n",
       "</div>"
      ],
      "text/plain": [
       "  $x_i$               $y_i$\n",
       "+-------------------+-------------------+\n",
       "  0                   1\n",
       "  0.100000000000000   0.850000000000000\n",
       "  0.200000000000000   0.722585000000000\n",
       "  0.300000000000000   0.614775318000000\n",
       "  0.400000000000000   0.524218913658600\n",
       "  0.500000000000000   0.448941077657225\n",
       "  0.600000000000000   0.387211679479357\n",
       "  0.700000000000000   0.337493699834207\n",
       "  0.800000000000000   0.298445678763389\n",
       "  0.900000000000000   0.268959245701567\n",
       "  1.00000000000000    0.248222487857976"
      ]
     },
     "metadata": {},
     "output_type": "display_data"
    },
    {
     "name": "stdout",
     "output_type": "stream",
     "text": [
      "Heun's method solution\n"
     ]
    },
    {
     "data": {
      "text/html": [
       "<div class=\"notruncate\">\n",
       "<table  class=\"table_form\">\n",
       "<tbody>\n",
       "<tr>\n",
       "<th><script type=\"math/tex\">x_i</script></th>\n",
       "<th><script type=\"math/tex\">y_i</script></th>\n",
       "</tr>\n",
       "<tr class =\"row-a\">\n",
       "<td><script type=\"math/tex\">0</script></td>\n",
       "<td><script type=\"math/tex\">1</script></td>\n",
       "</tr>\n",
       "<tr class =\"row-b\">\n",
       "<td><script type=\"math/tex\">0.100000000000000</script></td>\n",
       "<td><script type=\"math/tex\">0.861292500000000</script></td>\n",
       "</tr>\n",
       "<tr class =\"row-a\">\n",
       "<td><script type=\"math/tex\">0.200000000000000</script></td>\n",
       "<td><script type=\"math/tex\">0.742117644457950</script></td>\n",
       "</tr>\n",
       "<tr class =\"row-b\">\n",
       "<td><script type=\"math/tex\">0.300000000000000</script></td>\n",
       "<td><script type=\"math/tex\">0.640253522772597</script></td>\n",
       "</tr>\n",
       "<tr class =\"row-a\">\n",
       "<td><script type=\"math/tex\">0.400000000000000</script></td>\n",
       "<td><script type=\"math/tex\">0.553900058777659</script></td>\n",
       "</tr>\n",
       "<tr class =\"row-b\">\n",
       "<td><script type=\"math/tex\">0.500000000000000</script></td>\n",
       "<td><script type=\"math/tex\">0.481517783846741</script></td>\n",
       "</tr>\n",
       "<tr class =\"row-a\">\n",
       "<td><script type=\"math/tex\">0.600000000000000</script></td>\n",
       "<td><script type=\"math/tex\">0.421750592721224</script></td>\n",
       "</tr>\n",
       "<tr class =\"row-b\">\n",
       "<td><script type=\"math/tex\">0.700000000000000</script></td>\n",
       "<td><script type=\"math/tex\">0.373408670977296</script></td>\n",
       "</tr>\n",
       "<tr class =\"row-a\">\n",
       "<td><script type=\"math/tex\">0.800000000000000</script></td>\n",
       "<td><script type=\"math/tex\">0.335494838146646</script></td>\n",
       "</tr>\n",
       "<tr class =\"row-b\">\n",
       "<td><script type=\"math/tex\">0.900000000000000</script></td>\n",
       "<td><script type=\"math/tex\">0.307265879741491</script></td>\n",
       "</tr>\n",
       "<tr class =\"row-a\">\n",
       "<td><script type=\"math/tex\">1.00000000000000</script></td>\n",
       "<td><script type=\"math/tex\">0.288331388067121</script></td>\n",
       "</tr>\n",
       "</tbody>\n",
       "</table>\n",
       "</div>"
      ],
      "text/plain": [
       "  $x_i$               $y_i$\n",
       "+-------------------+-------------------+\n",
       "  0                   1\n",
       "  0.100000000000000   0.861292500000000\n",
       "  0.200000000000000   0.742117644457950\n",
       "  0.300000000000000   0.640253522772597\n",
       "  0.400000000000000   0.553900058777659\n",
       "  0.500000000000000   0.481517783846741\n",
       "  0.600000000000000   0.421750592721224\n",
       "  0.700000000000000   0.373408670977296\n",
       "  0.800000000000000   0.335494838146646\n",
       "  0.900000000000000   0.307265879741491\n",
       "  1.00000000000000    0.288331388067121"
      ]
     },
     "metadata": {},
     "output_type": "display_data"
    }
   ],
   "source": [
    "var('t y')\n",
    "\n",
    "f2(t, y) = y * t^3 - 1.5 * y \n",
    "\n",
    "solution_2_euler = forward_eulers_method(f2, x_initial = 0, y_initial = 1, h = 0.1, x_wanted = 1)\n",
    "\n",
    "solution_2_heun = heuns_method(f2, x_initial = 0, y_initial = 1, h = 0.1, x_wanted = 1)\n",
    "\n",
    "print(\"Euler's method solution\")\n",
    "\n",
    "show(table(solution_2_euler, header_row = ['$x_i$', '$y_i$']))\n",
    "\n",
    "print(\"Heun's method solution\")\n",
    "\n",
    "show(table(solution_2_heun, header_row = ['$x_i$', '$y_i$']))"
   ]
  },
  {
   "cell_type": "markdown",
   "metadata": {},
   "source": [
    "Solution with `Sage` built in `eulers_method` function"
   ]
  },
  {
   "cell_type": "code",
   "execution_count": 7,
   "metadata": {},
   "outputs": [
    {
     "name": "stdout",
     "output_type": "stream",
     "text": [
      "         x                    y                  h*f(x,y)\n",
      "         0                    1   -0.150000000000000\n",
      "0.100000000000000    0.850000000000000   -0.127415000000000\n",
      "0.200000000000000    0.722585000000000   -0.107809682000000\n",
      "0.300000000000000    0.614775318000000  -0.0905564043414000\n",
      "0.400000000000000    0.524218913658600  -0.0752778360013750\n",
      "0.500000000000000    0.448941077657225  -0.0617293981778684\n",
      "0.600000000000000    0.387211679479357  -0.0497179796451494\n",
      "0.700000000000000    0.337493699834207  -0.0390480210708178\n",
      "0.800000000000000    0.298445678763389  -0.0294864330618229\n",
      "0.900000000000000    0.268959245701567  -0.0207367578435908\n",
      "1.00000000000000    0.248222487857976  -0.0124111243928988\n"
     ]
    }
   ],
   "source": [
    "eulers_method(f2, 0, 1, 0.1, 1)"
   ]
  },
  {
   "cell_type": "markdown",
   "metadata": {},
   "source": [
    "As seen, our solution and `Sage` solution are identical."
   ]
  },
  {
   "cell_type": "markdown",
   "metadata": {},
   "source": [
    "Plot exact solution vs. Euler's solution and Heun's solution. As seen, Heun's method solution is very close to the exact solution."
   ]
  },
  {
   "cell_type": "code",
   "execution_count": 8,
   "metadata": {
    "scrolled": true
   },
   "outputs": [
    {
     "data": {
      "image/png": "[encoded data removed]",
      "text/plain": [
       "Graphics object consisting of 3 graphics primitives"
      ]
     },
     "execution_count": 8,
     "metadata": {},
     "output_type": "execute_result"
    }
   ],
   "source": [
    "p1 = streamline_plot(f2(t, y), (t, 0, 1), (y, 0, 1), start_points = [[0, 1]], color = 'black')\n",
    "\n",
    "p2 = line2d(solution_2_euler, color = 'red' , marker = 'o')\n",
    "\n",
    "p3 = line2d(solution_2_heun, color = 'green' , marker = 'o', thickness = 0.7)\n",
    "\n",
    "p1 + p2 + p3"
   ]
  }
 ],
 "metadata": {
  "kernelspec": {
   "display_name": "SageMath 9.2",
   "language": "sage",
   "name": "sagemath"
  },
  "language_info": {
   "codemirror_mode": {
    "name": "ipython",
    "version": 3
   },
   "file_extension": ".py",
   "mimetype": "text/x-python",
   "name": "python",
   "nbconvert_exporter": "python",
   "pygments_lexer": "ipython3",
   "version": "3.7.7"
  }
 },
 "nbformat": 4,
 "nbformat_minor": 4
}
